{
 "cells": [
  {
   "cell_type": "code",
   "execution_count": 1,
   "id": "2d41a356-abc5-4be4-9066-eb542097c133",
   "metadata": {},
   "outputs": [],
   "source": [
    "import numpy as np\n",
    "import sqlite3 \n",
    "import matplotlib.pylab as plt\n",
    "%matplotlib inline\n",
    "import pandas as pd"
   ]
  },
  {
   "cell_type": "code",
   "execution_count": 2,
   "id": "820bc45c-57b0-464b-be9d-a76d212056b4",
   "metadata": {},
   "outputs": [
    {
     "data": {
      "text/plain": [
       "197321.09179373228"
      ]
     },
     "execution_count": 2,
     "metadata": {},
     "output_type": "execute_result"
    }
   ],
   "source": [
    "#con = sqlite3.connect(\"baseline_v4.1_1yrs.db\")\n",
    "con = sqlite3.connect(\"dyn_pair_v4.1_1yrs.db\")\n",
    "\n",
    "data = pd.read_sql(\"select rotTelPos,filter,scheduler_note,night,fieldRA,fieldDec,rotSkyPos,observationStartMJD,rotSkyPos_desired,rotTelPos_backup from observations where night < 366;\", con)\n",
    "con.close()\n",
    "rot_all = 0\n",
    "for night in np.unique(data[\"night\"]):\n",
    "    good = np.where(data[\"night\"].values == night)[0]\n",
    "    dff = np.diff(data[\"rotTelPos\"].values[good])\n",
    "    rot_all += np.sum(np.abs(dff))\n",
    "rot_all"
   ]
  },
  {
   "cell_type": "code",
   "execution_count": 25,
   "id": "7d81c28a-ce47-486a-9525-1146d776e154",
   "metadata": {},
   "outputs": [
    {
     "data": {
      "text/plain": [
       "190310.19276898945"
      ]
     },
     "execution_count": 25,
     "metadata": {},
     "output_type": "execute_result"
    }
   ],
   "source": [
    "con = sqlite3.connect(\"baseline_v4.1_1yrs.db\")\n",
    "\n",
    "data = pd.read_sql(\"select rotTelPos,filter,scheduler_note,night,fieldRA,fieldDec,rotSkyPos,observationStartMJD,rotSkyPos_desired,rotTelPos_backup from observations where night < 366;\", con)\n",
    "con.close()\n",
    "rot_all = 0\n",
    "for night in np.unique(data[\"night\"]):\n",
    "    good = np.where(data[\"night\"].values == night)[0]\n",
    "    dff = np.diff(data[\"rotTelPos\"].values[good])\n",
    "    rot_all += np.sum(np.abs(dff))\n",
    "rot_all"
   ]
  },
  {
   "cell_type": "code",
   "execution_count": 27,
   "id": "e8cb10b9-cc80-4353-abc2-a02b7fc32960",
   "metadata": {},
   "outputs": [
    {
     "data": {
      "text/plain": [
       "12546.162341491046"
      ]
     },
     "execution_count": 27,
     "metadata": {},
     "output_type": "execute_result"
    }
   ],
   "source": [
    "con = sqlite3.connect(\"../technical/rot_check/rot_simple_v4.1_10yrs.db\")\n",
    "\n",
    "data = pd.read_sql(\"select rotTelPos,filter,scheduler_note,night,fieldRA,fieldDec,rotSkyPos,observationStartMJD,rotSkyPos_desired,rotTelPos_backup from observations where night < 366;\", con)\n",
    "con.close()\n",
    "rot_all = 0\n",
    "for night in np.unique(data[\"night\"]):\n",
    "    good = np.where(data[\"night\"].values == night)[0]\n",
    "    dff = np.diff(data[\"rotTelPos\"].values[good])\n",
    "    rot_all += np.sum(np.abs(dff))\n",
    "rot_all"
   ]
  },
  {
   "cell_type": "code",
   "execution_count": 3,
   "id": "adca9790-a4e8-449d-a9c0-365a7e866223",
   "metadata": {},
   "outputs": [],
   "source": [
    "ack = data['rotTelPos'].values[1:] - data['rotTelPos'].values[0:-1]"
   ]
  },
  {
   "cell_type": "code",
   "execution_count": 4,
   "id": "fe526520-90af-43bf-9bf4-d9965eaaeb54",
   "metadata": {},
   "outputs": [],
   "source": [
    "sf = np.where( (data[\"filter\"].values[1:] == data[\"filter\"].values[0:-1]) &\n",
    "              ((data[\"scheduler_note\"].values[1:] == data[\"scheduler_note\"].values[0:-1])))"
   ]
  },
  {
   "cell_type": "code",
   "execution_count": 5,
   "id": "4fa434ba-a105-48d8-b3b1-7c6a4ea46849",
   "metadata": {},
   "outputs": [
    {
     "data": {
      "image/png": "[encoded data removed]",
      "text/plain": [
       "<Figure size 640x480 with 1 Axes>"
      ]
     },
     "metadata": {},
     "output_type": "display_data"
    }
   ],
   "source": [
    "_temp = plt.hist(ack[sf], bins=100)"
   ]
  },
  {
   "cell_type": "code",
   "execution_count": 6,
   "id": "1797561e-9c4a-4447-bb54-fd0f8577fa9d",
   "metadata": {},
   "outputs": [
    {
     "data": {
      "text/plain": [
       "-117.47731939111233"
      ]
     },
     "execution_count": 6,
     "metadata": {},
     "output_type": "execute_result"
    }
   ],
   "source": [
    "ack[sf].min()"
   ]
  },
  {
   "cell_type": "code",
   "execution_count": 7,
   "id": "68f1944d-7acd-427f-8f24-bd9800d82a90",
   "metadata": {},
   "outputs": [
    {
     "data": {
      "text/plain": [
       "274"
      ]
     },
     "execution_count": 7,
     "metadata": {},
     "output_type": "execute_result"
    }
   ],
   "source": [
    "np.where(np.abs(ack[sf]) > 20.)[0].size"
   ]
  },
  {
   "cell_type": "code",
   "execution_count": 8,
   "id": "0bf18fbc-c811-4210-aeb0-287a69115158",
   "metadata": {},
   "outputs": [
    {
     "data": {
      "text/plain": [
       "array([   839,    849,    850,    851,    852,   2979,  18317,  19169,\n",
       "        19219,  20461,  22223,  25229,  25230,  25231,  25239,  25243,\n",
       "        25244,  25428,  34806,  34807,  34808,  35346,  35348,  35349,\n",
       "        35350,  39172,  42748,  42749,  42750,  44577,  44862,  44872,\n",
       "        45479,  45980,  45981,  45982,  49333,  49334,  54322,  54328,\n",
       "        54331,  54335,  55743,  55754,  56504,  56540,  56545,  56546,\n",
       "        61738,  70032,  72509,  73573,  73574,  76926,  76927,  76929,\n",
       "        76937,  78183,  78233,  80426,  82249,  83386,  89214,  89215,\n",
       "        89216,  89219,  89220,  90689,  90690,  94345,  96514,  99334,\n",
       "        99337, 100832, 101107, 107144, 107147, 107148, 110723, 112372,\n",
       "       112373, 112379, 112392, 115592, 115689, 115690, 121247, 121250,\n",
       "       123925, 123941, 124073, 129288, 129289, 129290, 129291, 134211,\n",
       "       134214, 134885, 137748, 154815, 154816, 154820, 154825, 154828,\n",
       "       154833, 154834, 154835, 157264, 157269, 157270, 162454, 162461,\n",
       "       165837, 166698, 168261, 170379, 170386, 175983, 177507, 180673,\n",
       "       180678, 180679, 180680, 184681, 184684, 184685, 185851])"
      ]
     },
     "execution_count": 8,
     "metadata": {},
     "output_type": "execute_result"
    }
   ],
   "source": [
    "np.where(np.abs(ack[sf]) > 30.)[0]"
   ]
  },
  {
   "cell_type": "code",
   "execution_count": 9,
   "id": "1a03b7b0-ad23-4518-b1c6-0098be4a166a",
   "metadata": {},
   "outputs": [
    {
     "data": {
      "text/plain": [
       "1"
      ]
     },
     "execution_count": 9,
     "metadata": {},
     "output_type": "execute_result"
    }
   ],
   "source": [
    "data[\"night\"].values[sf[0][839]]"
   ]
  },
  {
   "cell_type": "code",
   "execution_count": 10,
   "id": "bd4b3c6b-f2b1-4afd-9238-d133b2ce35d8",
   "metadata": {},
   "outputs": [],
   "source": [
    "in_night = np.where(data[\"night\"] == 1)[0]"
   ]
  },
  {
   "cell_type": "code",
   "execution_count": 11,
   "id": "2800b767-78bb-44aa-b3b3-45f4370a10a9",
   "metadata": {},
   "outputs": [
    {
     "data": {
      "text/plain": [
       "78.03989539506372"
      ]
     },
     "execution_count": 11,
     "metadata": {},
     "output_type": "execute_result"
    }
   ],
   "source": [
    "np.abs(np.diff(data[\"rotTelPos\"].values[in_night])).max()"
   ]
  },
  {
   "cell_type": "code",
   "execution_count": 12,
   "id": "a1c032cd-92d8-4ccf-841a-c17dd849ae6b",
   "metadata": {},
   "outputs": [
    {
     "data": {
      "text/plain": [
       "(array([249, 259, 260, 261, 262, 265]),)"
      ]
     },
     "execution_count": 12,
     "metadata": {},
     "output_type": "execute_result"
    }
   ],
   "source": [
    "np.where(np.abs(np.diff(data[\"rotTelPos\"].values[in_night])) > 30)"
   ]
  },
  {
   "cell_type": "code",
   "execution_count": 13,
   "id": "60f6bc67-902a-4ded-b98b-a58904b575f1",
   "metadata": {},
   "outputs": [
    {
     "data": {
      "text/plain": [
       "rotTelPos                   -9.912115\n",
       "filter                              z\n",
       "scheduler_note         pair_15, iz, b\n",
       "night                               1\n",
       "fieldRA                    169.532671\n",
       "fieldDec                   -13.931951\n",
       "rotSkyPos                   48.745232\n",
       "observationStartMJD      60797.127056\n",
       "rotSkyPos_desired          129.245814\n",
       "rotTelPos_backup             -9.77945\n",
       "Name: 866, dtype: object"
      ]
     },
     "execution_count": 13,
     "metadata": {},
     "output_type": "execute_result"
    }
   ],
   "source": [
    "data.iloc[in_night[249]]"
   ]
  },
  {
   "cell_type": "code",
   "execution_count": 15,
   "id": "53191469-fa84-40b3-bbe5-1ad119085008",
   "metadata": {},
   "outputs": [
    {
     "data": {
      "text/plain": [
       "rotTelPos                  -79.795892\n",
       "filter                              z\n",
       "scheduler_note         pair_15, iz, b\n",
       "night                               1\n",
       "fieldRA                    175.155715\n",
       "fieldDec                    -7.233433\n",
       "rotSkyPos                  131.373964\n",
       "observationStartMJD      60797.131283\n",
       "rotSkyPos_desired          131.373964\n",
       "rotTelPos_backup             -9.77945\n",
       "Name: 875, dtype: object"
      ]
     },
     "execution_count": 15,
     "metadata": {},
     "output_type": "execute_result"
    }
   ],
   "source": [
    "data.iloc[in_night[258]]"
   ]
  },
  {
   "cell_type": "code",
   "execution_count": 16,
   "id": "7243ac31-a32f-4cc3-8df7-6039f67f4fcc",
   "metadata": {},
   "outputs": [
    {
     "data": {
      "text/plain": [
       "rotTelPos                  -84.050434\n",
       "filter                              z\n",
       "scheduler_note         pair_15, iz, b\n",
       "night                               1\n",
       "fieldRA                    173.319874\n",
       "fieldDec                    -9.460221\n",
       "rotSkyPos                   130.84067\n",
       "observationStartMJD       60797.13173\n",
       "rotSkyPos_desired           130.84067\n",
       "rotTelPos_backup             -9.77945\n",
       "Name: 876, dtype: object"
      ]
     },
     "execution_count": 16,
     "metadata": {},
     "output_type": "execute_result"
    }
   ],
   "source": [
    "data.iloc[in_night[259]]"
   ]
  },
  {
   "cell_type": "code",
   "execution_count": 37,
   "id": "1f3768b0-9003-4256-95aa-a20a2c53bd39",
   "metadata": {},
   "outputs": [
    {
     "data": {
      "text/plain": [
       "rotTelPos                   16.573462\n",
       "filter                              g\n",
       "scheduler_note         pair_33, gr, a\n",
       "night                               3\n",
       "fieldRA                    172.320833\n",
       "fieldDec                   -16.432654\n",
       "rotSkyPos                   28.611038\n",
       "observationStartMJD      60799.104461\n",
       "rotSkyPos_desired           28.611038\n",
       "rotTelPos_backup            31.578885\n",
       "Name: 2654, dtype: object"
      ]
     },
     "execution_count": 37,
     "metadata": {},
     "output_type": "execute_result"
    }
   ],
   "source": [
    "data.iloc[in_night[307]]"
   ]
  },
  {
   "cell_type": "code",
   "execution_count": 38,
   "id": "1d63f156-62b2-4b61-afb7-3b954ce01f7e",
   "metadata": {},
   "outputs": [
    {
     "data": {
      "text/plain": [
       "[<matplotlib.lines.Line2D at 0x168fe3e10>]"
      ]
     },
     "execution_count": 38,
     "metadata": {},
     "output_type": "execute_result"
    },
    {
     "data": {
      "image/png": "[encoded data removed]",
      "text/plain": [
       "<Figure size 640x480 with 1 Axes>"
      ]
     },
     "metadata": {},
     "output_type": "display_data"
    }
   ],
   "source": [
    "indx = in_night[np.arange(303,308,1)]\n",
    "plt.plot(data[\"fieldRA\"].values[indx], data[\"fieldDec\"].values[indx], 'ko')"
   ]
  },
  {
   "cell_type": "code",
   "execution_count": 39,
   "id": "78ede570-913c-44f4-8107-9a0570090892",
   "metadata": {},
   "outputs": [
    {
     "data": {
      "text/plain": [
       "array([ 44.31544247,  40.03601675, 107.1180772 ,  38.95493166])"
      ]
     },
     "execution_count": 39,
     "metadata": {},
     "output_type": "execute_result"
    }
   ],
   "source": [
    "np.diff(data[\"observationStartMJD\"].values[indx])*24*3600"
   ]
  },
  {
   "cell_type": "code",
   "execution_count": 40,
   "id": "4a683dc1-87ef-40f6-9e21-568c6da8ba6d",
   "metadata": {},
   "outputs": [
    {
     "data": {
      "text/plain": [
       "array([-118.93126147, -140.66891998, -130.5478396 ,   19.65289088,\n",
       "         28.61103776])"
      ]
     },
     "execution_count": 40,
     "metadata": {},
     "output_type": "execute_result"
    }
   ],
   "source": [
    "data[\"rotSkyPos_desired\"].values[indx]"
   ]
  },
  {
   "cell_type": "code",
   "execution_count": 41,
   "id": "44bc4d4a-0768-4245-b354-1d84da566b4a",
   "metadata": {},
   "outputs": [
    {
     "data": {
      "text/plain": [
       "array([-118.93126147, -140.66891998, -130.5478396 ,   19.65289088,\n",
       "         28.61103776])"
      ]
     },
     "execution_count": 41,
     "metadata": {},
     "output_type": "execute_result"
    }
   ],
   "source": [
    "data[\"rotSkyPos\"].values[indx]"
   ]
  },
  {
   "cell_type": "code",
   "execution_count": 42,
   "id": "ae01eee8-10f2-4111-b268-b490900a1d07",
   "metadata": {},
   "outputs": [
    {
     "data": {
      "text/plain": [
       "array([49.04424753, 50.52756676, 52.73086906, 19.18014929, 16.57346214])"
      ]
     },
     "execution_count": 42,
     "metadata": {},
     "output_type": "execute_result"
    }
   ],
   "source": [
    "data[\"rotTelPos\"].values[indx]"
   ]
  },
  {
   "cell_type": "code",
   "execution_count": 22,
   "id": "0f1e9f18-6087-438b-b6d5-0cec88801adf",
   "metadata": {},
   "outputs": [
    {
     "data": {
      "text/plain": [
       "array([31.57888465, 31.57888465, 31.57888465, 31.57888465, 31.57888465])"
      ]
     },
     "execution_count": 22,
     "metadata": {},
     "output_type": "execute_result"
    }
   ],
   "source": [
    "data[\"rotTelPos_backup\"].values[indx]"
   ]
  },
  {
   "cell_type": "code",
   "execution_count": null,
   "id": "419b6de5-9e20-4142-9996-0a1f0cdcf912",
   "metadata": {},
   "outputs": [],
   "source": []
  }
 ],
 "metadata": {
  "kernelspec": {
   "display_name": "Python 3 (ipykernel)",
   "language": "python",
   "name": "python3"
  },
  "language_info": {
   "codemirror_mode": {
    "name": "ipython",
    "version": 3
   },
   "file_extension": ".py",
   "mimetype": "text/x-python",
   "name": "python",
   "nbconvert_exporter": "python",
   "pygments_lexer": "ipython3",
   "version": "3.11.8"
  }
 },
 "nbformat": 4,
 "nbformat_minor": 5
}
