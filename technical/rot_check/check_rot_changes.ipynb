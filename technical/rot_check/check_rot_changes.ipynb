{
 "cells": [
  {
   "cell_type": "code",
   "execution_count": 1,
   "id": "2d41a356-abc5-4be4-9066-eb542097c133",
   "metadata": {},
   "outputs": [],
   "source": [
    "import numpy as np\n",
    "import sqlite3 \n",
    "import matplotlib.pylab as plt\n",
    "%matplotlib inline\n",
    "import pandas as pd"
   ]
  },
  {
   "cell_type": "code",
   "execution_count": 12,
   "id": "820bc45c-57b0-464b-be9d-a76d212056b4",
   "metadata": {},
   "outputs": [],
   "source": [
    "con = sqlite3.connect(\"rot_simple_v4.1_10yrs.db\")\n",
    "#con = sqlite3.connect(\"../../baseline/baseline_v4.1_10yrs.db\")\n",
    "\n",
    "data = pd.read_sql(\"select rotTelPos,filter,scheduler_note,night,fieldRA,fieldDec,rotSkyPos,observationStartMJD,rotSkyPos_desired,rotTelPos_backup from observations;\", con)\n",
    "con.close()"
   ]
  },
  {
   "cell_type": "code",
   "execution_count": 13,
   "id": "adca9790-a4e8-449d-a9c0-365a7e866223",
   "metadata": {},
   "outputs": [],
   "source": [
    "ack = data['rotTelPos'].values[1:] - data['rotTelPos'].values[0:-1]"
   ]
  },
  {
   "cell_type": "code",
   "execution_count": 14,
   "id": "32454d17-f38b-49ec-a4bc-e17c1127ee58",
   "metadata": {},
   "outputs": [
    {
     "data": {
      "text/plain": [
       "(-0.0008848887708019504, 0.031597781994735286)"
      ]
     },
     "execution_count": 14,
     "metadata": {},
     "output_type": "execute_result"
    }
   ],
   "source": [
    "np.median(ack), np.median(np.abs(ack))"
   ]
  },
  {
   "cell_type": "code",
   "execution_count": 8,
   "id": "7a88cd69-ebad-4ae2-8958-0739c59a3aad",
   "metadata": {},
   "outputs": [
    {
     "data": {
      "text/plain": [
       "2017941.1180093738"
      ]
     },
     "execution_count": 8,
     "metadata": {},
     "output_type": "execute_result"
    }
   ],
   "source": [
    "np.sum(np.abs(ack))"
   ]
  },
  {
   "cell_type": "code",
   "execution_count": 5,
   "id": "0df666f4-f179-41fa-af20-18f9e3b8fe9b",
   "metadata": {},
   "outputs": [
    {
     "data": {
      "text/plain": [
       "286418.1451454206"
      ]
     },
     "execution_count": 5,
     "metadata": {},
     "output_type": "execute_result"
    }
   ],
   "source": [
    "np.sum(np.abs(ack))"
   ]
  },
  {
   "cell_type": "code",
   "execution_count": 12,
   "id": "fe526520-90af-43bf-9bf4-d9965eaaeb54",
   "metadata": {},
   "outputs": [],
   "source": [
    "sf = np.where( (data[\"filter\"].values[1:] == data[\"filter\"].values[0:-1]) &\n",
    "              ((data[\"scheduler_note\"].values[1:] == data[\"scheduler_note\"].values[0:-1])) &\n",
    "              (data[\"night\"].values[1:] == data[\"night\"].values[0:-1]))[0]"
   ]
  },
  {
   "cell_type": "code",
   "execution_count": 13,
   "id": "4fa434ba-a105-48d8-b3b1-7c6a4ea46849",
   "metadata": {},
   "outputs": [
    {
     "data": {
      "image/png": "[encoded data removed]",
      "text/plain": [
       "<Figure size 640x480 with 1 Axes>"
      ]
     },
     "metadata": {},
     "output_type": "display_data"
    }
   ],
   "source": [
    "_temp = plt.hist(ack[sf], bins=100)"
   ]
  },
  {
   "cell_type": "code",
   "execution_count": 14,
   "id": "1797561e-9c4a-4447-bb54-fd0f8577fa9d",
   "metadata": {},
   "outputs": [
    {
     "data": {
      "text/plain": [
       "-4.816192777533576"
      ]
     },
     "execution_count": 14,
     "metadata": {},
     "output_type": "execute_result"
    }
   ],
   "source": [
    "ack[sf].min()"
   ]
  },
  {
   "cell_type": "code",
   "execution_count": 15,
   "id": "68f1944d-7acd-427f-8f24-bd9800d82a90",
   "metadata": {},
   "outputs": [
    {
     "data": {
      "text/plain": [
       "0"
      ]
     },
     "execution_count": 15,
     "metadata": {},
     "output_type": "execute_result"
    }
   ],
   "source": [
    "np.where(np.abs(ack[sf]) > 20.)[0].size"
   ]
  },
  {
   "cell_type": "code",
   "execution_count": 16,
   "id": "0bf18fbc-c811-4210-aeb0-287a69115158",
   "metadata": {},
   "outputs": [
    {
     "data": {
      "text/plain": [
       "array([], dtype=int64)"
      ]
     },
     "execution_count": 16,
     "metadata": {},
     "output_type": "execute_result"
    }
   ],
   "source": [
    "np.where(np.abs(ack[sf]) > 20.)[0]"
   ]
  },
  {
   "cell_type": "code",
   "execution_count": 17,
   "id": "1a03b7b0-ad23-4518-b1c6-0098be4a166a",
   "metadata": {},
   "outputs": [
    {
     "data": {
      "text/plain": [
       "59"
      ]
     },
     "execution_count": 17,
     "metadata": {},
     "output_type": "execute_result"
    }
   ],
   "source": [
    "nights = data[\"night\"].values[1:]\n",
    "nights[sf[26866]]"
   ]
  },
  {
   "cell_type": "code",
   "execution_count": 18,
   "id": "bd4b3c6b-f2b1-4afd-9238-d133b2ce35d8",
   "metadata": {},
   "outputs": [],
   "source": [
    "in_night = np.where(data[\"night\"] == 59)[0]"
   ]
  },
  {
   "cell_type": "code",
   "execution_count": 19,
   "id": "2800b767-78bb-44aa-b3b3-45f4370a10a9",
   "metadata": {},
   "outputs": [
    {
     "data": {
      "text/plain": [
       "0.8366509120703469"
      ]
     },
     "execution_count": 19,
     "metadata": {},
     "output_type": "execute_result"
    }
   ],
   "source": [
    "np.abs(np.diff(data[\"rotTelPos\"].values[in_night])).max()"
   ]
  },
  {
   "cell_type": "code",
   "execution_count": 20,
   "id": "a1c032cd-92d8-4ccf-841a-c17dd849ae6b",
   "metadata": {},
   "outputs": [
    {
     "data": {
      "text/plain": [
       "(array([], dtype=int64),)"
      ]
     },
     "execution_count": 20,
     "metadata": {},
     "output_type": "execute_result"
    }
   ],
   "source": [
    "np.where(np.abs(np.diff(data[\"rotTelPos\"].values[in_night])) > 30)"
   ]
  },
  {
   "cell_type": "code",
   "execution_count": 21,
   "id": "60f6bc67-902a-4ded-b98b-a58904b575f1",
   "metadata": {},
   "outputs": [
    {
     "data": {
      "text/plain": [
       "rotTelPos                  -61.645247\n",
       "filter                              r\n",
       "scheduler_note         pair_33, ur, b\n",
       "night                              59\n",
       "fieldRA                    270.775996\n",
       "fieldDec                   -32.143337\n",
       "rotSkyPos                   72.449084\n",
       "observationStartMJD      60855.313044\n",
       "rotSkyPos_desired                 NaN\n",
       "rotTelPos_backup           -61.675188\n",
       "Name: 27619, dtype: object"
      ]
     },
     "execution_count": 21,
     "metadata": {},
     "output_type": "execute_result"
    }
   ],
   "source": [
    "data.iloc[in_night[717]]"
   ]
  },
  {
   "cell_type": "code",
   "execution_count": 22,
   "id": "53191469-fa84-40b3-bbe5-1ad119085008",
   "metadata": {},
   "outputs": [
    {
     "data": {
      "text/plain": [
       "rotTelPos                  -61.623801\n",
       "filter                              r\n",
       "scheduler_note         pair_33, ur, b\n",
       "night                              59\n",
       "fieldRA                    268.678077\n",
       "fieldDec                   -29.843233\n",
       "rotSkyPos                    75.60536\n",
       "observationStartMJD       60855.31349\n",
       "rotSkyPos_desired                 NaN\n",
       "rotTelPos_backup           -61.675188\n",
       "Name: 27620, dtype: object"
      ]
     },
     "execution_count": 22,
     "metadata": {},
     "output_type": "execute_result"
    }
   ],
   "source": [
    "data.iloc[in_night[718]]"
   ]
  },
  {
   "cell_type": "code",
   "execution_count": 23,
   "id": "7243ac31-a32f-4cc3-8df7-6039f67f4fcc",
   "metadata": {},
   "outputs": [
    {
     "data": {
      "text/plain": [
       "rotTelPos                  -61.605178\n",
       "filter                              r\n",
       "scheduler_note         pair_33, ur, b\n",
       "night                              59\n",
       "fieldRA                    266.671416\n",
       "fieldDec                   -27.450667\n",
       "rotSkyPos                   78.446295\n",
       "observationStartMJD      60855.313935\n",
       "rotSkyPos_desired                 NaN\n",
       "rotTelPos_backup           -61.675188\n",
       "Name: 27621, dtype: object"
      ]
     },
     "execution_count": 23,
     "metadata": {},
     "output_type": "execute_result"
    }
   ],
   "source": [
    "data.iloc[in_night[719]]"
   ]
  },
  {
   "cell_type": "code",
   "execution_count": 24,
   "id": "1f3768b0-9003-4256-95aa-a20a2c53bd39",
   "metadata": {},
   "outputs": [
    {
     "data": {
      "text/plain": [
       "rotTelPos                  -60.790813\n",
       "filter                              r\n",
       "scheduler_note         pair_33, ur, b\n",
       "night                              59\n",
       "fieldRA                    246.007682\n",
       "fieldDec                   -12.585041\n",
       "rotSkyPos                  181.821271\n",
       "observationStartMJD      60855.076242\n",
       "rotSkyPos_desired                 NaN\n",
       "rotTelPos_backup           -61.675188\n",
       "Name: 27149, dtype: object"
      ]
     },
     "execution_count": 24,
     "metadata": {},
     "output_type": "execute_result"
    }
   ],
   "source": [
    "data.iloc[in_night[247]]"
   ]
  },
  {
   "cell_type": "code",
   "execution_count": 25,
   "id": "1d63f156-62b2-4b61-afb7-3b954ce01f7e",
   "metadata": {},
   "outputs": [
    {
     "data": {
      "text/plain": [
       "[<matplotlib.lines.Line2D at 0x166ed7a10>]"
      ]
     },
     "execution_count": 25,
     "metadata": {},
     "output_type": "execute_result"
    },
    {
     "data": {
      "image/png": "[encoded data removed]",
      "text/plain": [
       "<Figure size 640x480 with 1 Axes>"
      ]
     },
     "metadata": {},
     "output_type": "display_data"
    }
   ],
   "source": [
    "indx = in_night[np.arange(303,308,1)]\n",
    "plt.plot(data[\"fieldRA\"].values[indx], data[\"fieldDec\"].values[indx], 'ko')"
   ]
  },
  {
   "cell_type": "code",
   "execution_count": 18,
   "id": "78ede570-913c-44f4-8107-9a0570090892",
   "metadata": {},
   "outputs": [
    {
     "data": {
      "text/plain": [
       "array([38.59938264, 38.57349765, 38.56873694, 38.86543368])"
      ]
     },
     "execution_count": 18,
     "metadata": {},
     "output_type": "execute_result"
    }
   ],
   "source": [
    "np.diff(data[\"observationStartMJD\"].values[indx])*24*3600"
   ]
  },
  {
   "cell_type": "code",
   "execution_count": 19,
   "id": "4a683dc1-87ef-40f6-9e21-568c6da8ba6d",
   "metadata": {},
   "outputs": [
    {
     "data": {
      "text/plain": [
       "array([-178.86738847, -175.27809399, -177.56232733, -174.11748865,\n",
       "       -179.75610965])"
      ]
     },
     "execution_count": 19,
     "metadata": {},
     "output_type": "execute_result"
    }
   ],
   "source": [
    "data[\"rotSkyPos_desired\"].values[indx]"
   ]
  },
  {
   "cell_type": "code",
   "execution_count": 20,
   "id": "44bc4d4a-0768-4245-b354-1d84da566b4a",
   "metadata": {},
   "outputs": [
    {
     "data": {
      "text/plain": [
       "array([-178.86738847, -175.27809399, -177.56232733, -174.11748865,\n",
       "       -179.75610965])"
      ]
     },
     "execution_count": 20,
     "metadata": {},
     "output_type": "execute_result"
    }
   ],
   "source": [
    "data[\"rotSkyPos\"].values[indx]"
   ]
  },
  {
   "cell_type": "code",
   "execution_count": 21,
   "id": "ae01eee8-10f2-4111-b268-b490900a1d07",
   "metadata": {},
   "outputs": [
    {
     "data": {
      "text/plain": [
       "array([-71.99446293, -71.41481902, -71.19937787, -70.64803293,\n",
       "       -71.01626423])"
      ]
     },
     "execution_count": 21,
     "metadata": {},
     "output_type": "execute_result"
    }
   ],
   "source": [
    "data[\"rotTelPos\"].values[indx]"
   ]
  },
  {
   "cell_type": "code",
   "execution_count": 22,
   "id": "0f1e9f18-6087-438b-b6d5-0cec88801adf",
   "metadata": {},
   "outputs": [
    {
     "data": {
      "text/plain": [
       "array([-61.67518823, -61.67518823, -61.67518823, -61.67518823,\n",
       "       -61.67518823])"
      ]
     },
     "execution_count": 22,
     "metadata": {},
     "output_type": "execute_result"
    }
   ],
   "source": [
    "data[\"rotTelPos_backup\"].values[indx]"
   ]
  },
  {
   "cell_type": "code",
   "execution_count": 26,
   "id": "419b6de5-9e20-4142-9996-0a1f0cdcf912",
   "metadata": {},
   "outputs": [
    {
     "data": {
      "text/plain": [
       "(2042353, 10)"
      ]
     },
     "execution_count": 26,
     "metadata": {},
     "output_type": "execute_result"
    }
   ],
   "source": [
    "data.shape"
   ]
  },
  {
   "cell_type": "code",
   "execution_count": null,
   "id": "c707b29c-fd4a-4124-ba70-d7d221552d50",
   "metadata": {},
   "outputs": [],
   "source": []
  }
 ],
 "metadata": {
  "kernelspec": {
   "display_name": "Python 3 (ipykernel)",
   "language": "python",
   "name": "python3"
  },
  "language_info": {
   "codemirror_mode": {
    "name": "ipython",
    "version": 3
   },
   "file_extension": ".py",
   "mimetype": "text/x-python",
   "name": "python",
   "nbconvert_exporter": "python",
   "pygments_lexer": "ipython3",
   "version": "3.11.8"
  }
 },
 "nbformat": 4,
 "nbformat_minor": 5
}
