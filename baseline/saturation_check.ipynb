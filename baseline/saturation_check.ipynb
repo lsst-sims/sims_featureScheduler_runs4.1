{
 "cells": [
  {
   "cell_type": "code",
   "execution_count": 1,
   "id": "f7066d94-0927-4f23-a895-baa919fe7e12",
   "metadata": {},
   "outputs": [],
   "source": [
    "import numpy as np\n",
    "import sqlite3\n",
    "import pandas as pd\n",
    "import matplotlib.pylab as plt\n",
    "%matplotlib inline\n",
    "from rubin_sim.maf.utils import load_inst_zeropoints\n"
   ]
  },
  {
   "cell_type": "code",
   "execution_count": 2,
   "id": "26a05dd4-2474-45fd-a0cb-21011281b074",
   "metadata": {},
   "outputs": [],
   "source": [
    "pixscale=0.2"
   ]
  },
  {
   "cell_type": "code",
   "execution_count": 3,
   "id": "8172cccf-ba89-4023-bd7b-bc5e66cf0fee",
   "metadata": {},
   "outputs": [],
   "source": [
    "con = sqlite3.connect('baseline_v4.1_10yrs.db')\n",
    "data = pd.read_sql(\"select skyBrightness,visitExposureTime,numExposures,filter,scheduler_note from observations\", con)\n",
    "con.close()"
   ]
  },
  {
   "cell_type": "code",
   "execution_count": 4,
   "id": "0e60d301-ff4c-4f3c-956d-a3e020a1b6d8",
   "metadata": {},
   "outputs": [
    {
     "data": {
      "text/plain": [
       "0          21.027957\n",
       "1          21.020817\n",
       "2          20.985256\n",
       "3          21.017650\n",
       "4          21.004115\n",
       "             ...    \n",
       "2040522    18.390170\n",
       "2040523    18.684546\n",
       "2040524    18.704524\n",
       "2040525    18.450418\n",
       "2040526    18.636580\n",
       "Name: skyBrightness, Length: 2040527, dtype: float64"
      ]
     },
     "execution_count": 4,
     "metadata": {},
     "output_type": "execute_result"
    }
   ],
   "source": [
    "data[\"skyBrightness\"]"
   ]
  },
  {
   "cell_type": "code",
   "execution_count": 5,
   "id": "e1567362-1b95-47e0-a726-f91c19742d3e",
   "metadata": {},
   "outputs": [],
   "source": [
    "zeropoints, k_atm = load_inst_zeropoints()"
   ]
  },
  {
   "cell_type": "code",
   "execution_count": 6,
   "id": "4890db69-ac70-47b4-b5ff-b44e26bd2bdc",
   "metadata": {},
   "outputs": [
    {
     "data": {
      "text/plain": [
       "{'u': 26.43113567696435,\n",
       " 'g': 28.466167127068015,\n",
       " 'r': 28.33606807369919,\n",
       " 'i': 28.155804618076573,\n",
       " 'z': 27.7701164779691,\n",
       " 'y': 26.79541324252779}"
      ]
     },
     "execution_count": 6,
     "metadata": {},
     "output_type": "execute_result"
    }
   ],
   "source": [
    "zeropoints"
   ]
  },
  {
   "cell_type": "code",
   "execution_count": 7,
   "id": "c96d4544-8a4f-472a-9906-c7cfe48c06e2",
   "metadata": {},
   "outputs": [],
   "source": [
    "sky_counts = np.zeros(data[\"filter\"].values.size, dtype=float)\n",
    "\n",
    "\n",
    "for filtername in zeropoints.keys():\n",
    "    in_filt = np.where(data[\"filter\"].values == filtername)[0]\n",
    "    \n",
    "    sky_counts[in_filt] = (10.0 ** (0.4 * (zeropoints[filtername] - data[\"skyBrightness\"][in_filt]))\n",
    "                    * pixscale**2\n",
    "                )\n",
    "    # Total sky counts in each exposure\n",
    "    exptime = data[\"visitExposureTime\"].values[in_filt]/data[\"numExposures\"][in_filt]\n",
    "    sky_counts[in_filt] = sky_counts[in_filt] * exptime"
   ]
  },
  {
   "cell_type": "code",
   "execution_count": 8,
   "id": "b2524b54-be9a-49e0-9b74-7f426434a377",
   "metadata": {},
   "outputs": [
    {
     "data": {
      "image/png": "[encoded data removed]",
      "text/plain": [
       "<Figure size 640x480 with 1 Axes>"
      ]
     },
     "metadata": {},
     "output_type": "display_data"
    }
   ],
   "source": [
    "_ack = plt.hist(sky_counts, bins=80)"
   ]
  },
  {
   "cell_type": "code",
   "execution_count": 9,
   "id": "bbf8af8e-be05-45ad-a5d6-daacbaa4097f",
   "metadata": {},
   "outputs": [
    {
     "data": {
      "text/plain": [
       "97666.52951103727"
      ]
     },
     "execution_count": 9,
     "metadata": {},
     "output_type": "execute_result"
    }
   ],
   "source": [
    "sky_counts.max()"
   ]
  },
  {
   "cell_type": "code",
   "execution_count": 10,
   "id": "12e075cc-cb87-4060-a728-9cdce58fcbe6",
   "metadata": {},
   "outputs": [],
   "source": [
    "temp = data[\"scheduler_note\"].values[np.where(sky_counts > 30000)[0]]"
   ]
  },
  {
   "cell_type": "code",
   "execution_count": 11,
   "id": "e0443119-3867-4420-ab20-b46874a3e02e",
   "metadata": {},
   "outputs": [
    {
     "data": {
      "text/plain": [
       "[]"
      ]
     },
     "execution_count": 11,
     "metadata": {},
     "output_type": "execute_result"
    }
   ],
   "source": [
    "[ack for ack in temp if 'ToO' not in ack]"
   ]
  },
  {
   "cell_type": "code",
   "execution_count": null,
   "id": "bc74a13f-4715-4c49-9062-84a0ca7507fd",
   "metadata": {},
   "outputs": [],
   "source": []
  },
  {
   "cell_type": "code",
   "execution_count": null,
   "id": "54be1b35-7c97-40c8-b068-33d60616e94b",
   "metadata": {},
   "outputs": [],
   "source": []
  }
 ],
 "metadata": {
  "kernelspec": {
   "display_name": "Python 3 (ipykernel)",
   "language": "python",
   "name": "python3"
  },
  "language_info": {
   "codemirror_mode": {
    "name": "ipython",
    "version": 3
   },
   "file_extension": ".py",
   "mimetype": "text/x-python",
   "name": "python",
   "nbconvert_exporter": "python",
   "pygments_lexer": "ipython3",
   "version": "3.11.8"
  }
 },
 "nbformat": 4,
 "nbformat_minor": 5
}
