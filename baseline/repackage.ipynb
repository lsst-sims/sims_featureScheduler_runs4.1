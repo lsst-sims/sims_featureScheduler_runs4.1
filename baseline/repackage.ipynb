{
 "cells": [
  {
   "cell_type": "code",
   "execution_count": 1,
   "id": "55379884",
   "metadata": {},
   "outputs": [],
   "source": [
    "import sqlite3\n",
    "import pandas as pd\n",
    "import numpy as np"
   ]
  },
  {
   "cell_type": "code",
   "execution_count": 2,
   "id": "a9822984",
   "metadata": {},
   "outputs": [],
   "source": [
    "con = sqlite3.connect('baseline_v4.1_10yrs.db')\n",
    "df = pd.read_sql('select * from observations;', con)\n",
    "con.close()"
   ]
  },
  {
   "cell_type": "code",
   "execution_count": 3,
   "id": "79018228",
   "metadata": {},
   "outputs": [
    {
     "data": {
      "text/plain": [
       "6616"
      ]
     },
     "execution_count": 3,
     "metadata": {},
     "output_type": "execute_result"
    }
   ],
   "source": [
    "np.where(df['night'] <=7)[0].max()"
   ]
  },
  {
   "cell_type": "code",
   "execution_count": 4,
   "id": "7b598319",
   "metadata": {},
   "outputs": [
    {
     "data": {
      "text/plain": [
       "0       0\n",
       "1       0\n",
       "2       0\n",
       "3       0\n",
       "4       0\n",
       "       ..\n",
       "6612    7\n",
       "6613    7\n",
       "6614    7\n",
       "6615    7\n",
       "6616    7\n",
       "Name: night, Length: 6617, dtype: int64"
      ]
     },
     "execution_count": 4,
     "metadata": {},
     "output_type": "execute_result"
    }
   ],
   "source": [
    "df.iloc[0:6617][\"night\"]"
   ]
  },
  {
   "cell_type": "code",
   "execution_count": 5,
   "id": "e1b0449b",
   "metadata": {},
   "outputs": [],
   "source": [
    "nights = [7,14,30,60,90,180,360]"
   ]
  },
  {
   "cell_type": "code",
   "execution_count": null,
   "id": "284f3b39",
   "metadata": {},
   "outputs": [],
   "source": [
    "for n in nights:\n",
    "    indx = np.where(df['night'] <= n)[0].max()\n",
    "    sub_df = df.iloc[0:indx+1]\n",
    "    con = sqlite3.connect('baseline_n%i.db' % n)\n",
    "    sub_df.to_sql(\"observations\", con, index=False)\n",
    "    con.close()"
   ]
  },
  {
   "cell_type": "code",
   "execution_count": null,
   "id": "5fe03423",
   "metadata": {},
   "outputs": [],
   "source": []
  }
 ],
 "metadata": {
  "kernelspec": {
   "display_name": "Python 3 (ipykernel)",
   "language": "python",
   "name": "python3"
  },
  "language_info": {
   "codemirror_mode": {
    "name": "ipython",
    "version": 3
   },
   "file_extension": ".py",
   "mimetype": "text/x-python",
   "name": "python",
   "nbconvert_exporter": "python",
   "pygments_lexer": "ipython3",
   "version": "3.9.16"
  }
 },
 "nbformat": 4,
 "nbformat_minor": 5
}
