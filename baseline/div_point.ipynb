{
 "cells": [
  {
   "cell_type": "code",
   "execution_count": 1,
   "id": "f955e210-1e4d-42ea-a545-d7fdfe2aebe8",
   "metadata": {},
   "outputs": [],
   "source": [
    "import pandas as pd\n",
    "import sqlite3\n",
    "import numpy as np"
   ]
  },
  {
   "cell_type": "code",
   "execution_count": 2,
   "id": "d684753a-7eb8-42ce-9089-a7f1710c5a18",
   "metadata": {},
   "outputs": [],
   "source": [
    "que = 'select fieldRA, fieldDec,night,scheduler_note from observations;'\n",
    "con = sqlite3.connect('m2_baseline_v4.1_10yrs.db')\n",
    "m2_df = pd.read_sql(que, con)\n",
    "con.close()"
   ]
  },
  {
   "cell_type": "code",
   "execution_count": 3,
   "id": "042ac67f-5b79-4606-9a4e-8c8001eea35c",
   "metadata": {},
   "outputs": [],
   "source": [
    "con = sqlite3.connect('baseline_v4.1_10yrs.db')\n",
    "us_df = pd.read_sql(que, con)\n",
    "con.close()"
   ]
  },
  {
   "cell_type": "code",
   "execution_count": 4,
   "id": "fc83cd44-725b-45ef-b61c-0f2629b5f386",
   "metadata": {},
   "outputs": [],
   "source": [
    "diff = us_df[\"fieldDec\"].values[0:10000] - m2_df[\"fieldDec\"].values[0:10000]"
   ]
  },
  {
   "cell_type": "code",
   "execution_count": 5,
   "id": "51f82546-7d55-4912-9010-ccde5f64df09",
   "metadata": {},
   "outputs": [
    {
     "ename": "ValueError",
     "evalue": "zero-size array to reduction operation minimum which has no identity",
     "output_type": "error",
     "traceback": [
      "\u001b[0;31m---------------------------------------------------------------------------\u001b[0m",
      "\u001b[0;31mValueError\u001b[0m                                Traceback (most recent call last)",
      "Cell \u001b[0;32mIn[5], line 1\u001b[0m\n\u001b[0;32m----> 1\u001b[0m \u001b[43mnp\u001b[49m\u001b[38;5;241;43m.\u001b[39;49m\u001b[43mwhere\u001b[49m\u001b[43m(\u001b[49m\u001b[43mnp\u001b[49m\u001b[38;5;241;43m.\u001b[39;49m\u001b[43mabs\u001b[49m\u001b[43m(\u001b[49m\u001b[43mdiff\u001b[49m\u001b[43m)\u001b[49m\u001b[43m \u001b[49m\u001b[38;5;241;43m>\u001b[39;49m\u001b[43m \u001b[49m\u001b[38;5;241;43m1.\u001b[39;49m\u001b[43m)\u001b[49m\u001b[43m[\u001b[49m\u001b[38;5;241;43m0\u001b[39;49m\u001b[43m]\u001b[49m\u001b[38;5;241;43m.\u001b[39;49m\u001b[43mmin\u001b[49m\u001b[43m(\u001b[49m\u001b[43m)\u001b[49m\n",
      "File \u001b[0;32m~/anaconda3/envs/rubin/lib/python3.11/site-packages/numpy/core/_methods.py:45\u001b[0m, in \u001b[0;36m_amin\u001b[0;34m(a, axis, out, keepdims, initial, where)\u001b[0m\n\u001b[1;32m     43\u001b[0m \u001b[38;5;28;01mdef\u001b[39;00m \u001b[38;5;21m_amin\u001b[39m(a, axis\u001b[38;5;241m=\u001b[39m\u001b[38;5;28;01mNone\u001b[39;00m, out\u001b[38;5;241m=\u001b[39m\u001b[38;5;28;01mNone\u001b[39;00m, keepdims\u001b[38;5;241m=\u001b[39m\u001b[38;5;28;01mFalse\u001b[39;00m,\n\u001b[1;32m     44\u001b[0m           initial\u001b[38;5;241m=\u001b[39m_NoValue, where\u001b[38;5;241m=\u001b[39m\u001b[38;5;28;01mTrue\u001b[39;00m):\n\u001b[0;32m---> 45\u001b[0m     \u001b[38;5;28;01mreturn\u001b[39;00m \u001b[43mumr_minimum\u001b[49m\u001b[43m(\u001b[49m\u001b[43ma\u001b[49m\u001b[43m,\u001b[49m\u001b[43m \u001b[49m\u001b[43maxis\u001b[49m\u001b[43m,\u001b[49m\u001b[43m \u001b[49m\u001b[38;5;28;43;01mNone\u001b[39;49;00m\u001b[43m,\u001b[49m\u001b[43m \u001b[49m\u001b[43mout\u001b[49m\u001b[43m,\u001b[49m\u001b[43m \u001b[49m\u001b[43mkeepdims\u001b[49m\u001b[43m,\u001b[49m\u001b[43m \u001b[49m\u001b[43minitial\u001b[49m\u001b[43m,\u001b[49m\u001b[43m \u001b[49m\u001b[43mwhere\u001b[49m\u001b[43m)\u001b[49m\n",
      "\u001b[0;31mValueError\u001b[0m: zero-size array to reduction operation minimum which has no identity"
     ]
    }
   ],
   "source": [
    "np.where(np.abs(diff) > 1.)[0].min()"
   ]
  },
  {
   "cell_type": "code",
   "execution_count": 27,
   "id": "5bef0cb7-2f3e-4788-9b67-f9908be91c99",
   "metadata": {},
   "outputs": [
    {
     "data": {
      "text/plain": [
       "200.40231664632"
      ]
     },
     "execution_count": 27,
     "metadata": {},
     "output_type": "execute_result"
    }
   ],
   "source": [
    "us_df[\"fieldRA\"].iloc[3423]"
   ]
  },
  {
   "cell_type": "code",
   "execution_count": 29,
   "id": "dfb1e5e5-8d97-4990-826a-bfffe8f79fee",
   "metadata": {},
   "outputs": [
    {
     "data": {
      "text/plain": [
       "'blob_long, gr, a'"
      ]
     },
     "execution_count": 29,
     "metadata": {},
     "output_type": "execute_result"
    }
   ],
   "source": [
    "m2_df[\"scheduler_note\"].iloc[3423]"
   ]
  },
  {
   "cell_type": "code",
   "execution_count": 31,
   "id": "f7a0651b-c6f8-4e92-8e7f-cda8944f6de8",
   "metadata": {},
   "outputs": [
    {
     "data": {
      "text/plain": [
       "3413              greedy\n",
       "3414              greedy\n",
       "3415              greedy\n",
       "3416              greedy\n",
       "3417              greedy\n",
       "3418    blob_long, gr, a\n",
       "3419    blob_long, gr, a\n",
       "3420    blob_long, gr, a\n",
       "3421    blob_long, gr, a\n",
       "3422    blob_long, gr, a\n",
       "Name: scheduler_note, dtype: object"
      ]
     },
     "execution_count": 31,
     "metadata": {},
     "output_type": "execute_result"
    }
   ],
   "source": [
    "m2_df[\"scheduler_note\"].iloc[3423-10:3423]"
   ]
  },
  {
   "cell_type": "code",
   "execution_count": null,
   "id": "da43a842-9947-4199-bb04-25eca2be7d4c",
   "metadata": {},
   "outputs": [],
   "source": []
  }
 ],
 "metadata": {
  "kernelspec": {
   "display_name": "Python 3 (ipykernel)",
   "language": "python",
   "name": "python3"
  },
  "language_info": {
   "codemirror_mode": {
    "name": "ipython",
    "version": 3
   },
   "file_extension": ".py",
   "mimetype": "text/x-python",
   "name": "python",
   "nbconvert_exporter": "python",
   "pygments_lexer": "ipython3",
   "version": "3.11.8"
  }
 },
 "nbformat": 4,
 "nbformat_minor": 5
}
