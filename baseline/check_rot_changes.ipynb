{
 "cells": [
  {
   "cell_type": "code",
   "execution_count": 1,
   "id": "2d41a356-abc5-4be4-9066-eb542097c133",
   "metadata": {},
   "outputs": [],
   "source": [
    "import numpy as np\n",
    "import sqlite3 \n",
    "import matplotlib.pylab as plt\n",
    "%matplotlib inline\n",
    "import pandas as pd"
   ]
  },
  {
   "cell_type": "code",
   "execution_count": 2,
   "id": "820bc45c-57b0-464b-be9d-a76d212056b4",
   "metadata": {},
   "outputs": [],
   "source": [
    "con = sqlite3.connect(\"baseline_v4.1_10yrs.db\")\n",
    "data = pd.read_sql(\"select rotTelPos,filter,scheduler_note,night,fieldRA,fieldDec,rotSkyPos,observationStartMJD,rotSkyPos_desired,rotTelPos_backup from observations where night < 366;\", con)\n",
    "con.close()"
   ]
  },
  {
   "cell_type": "code",
   "execution_count": 3,
   "id": "adca9790-a4e8-449d-a9c0-365a7e866223",
   "metadata": {},
   "outputs": [],
   "source": [
    "ack = data['rotTelPos'].values[1:] - data['rotTelPos'].values[0:-1]"
   ]
  },
  {
   "cell_type": "code",
   "execution_count": 4,
   "id": "fe526520-90af-43bf-9bf4-d9965eaaeb54",
   "metadata": {},
   "outputs": [],
   "source": [
    "sf = np.where( (data[\"filter\"].values[1:] == data[\"filter\"].values[0:-1]) &\n",
    "              ((data[\"scheduler_note\"].values[1:] == data[\"scheduler_note\"].values[0:-1])))"
   ]
  },
  {
   "cell_type": "code",
   "execution_count": 5,
   "id": "4fa434ba-a105-48d8-b3b1-7c6a4ea46849",
   "metadata": {},
   "outputs": [
    {
     "data": {
      "image/png": "[encoded data removed]",
      "text/plain": [
       "<Figure size 640x480 with 1 Axes>"
      ]
     },
     "metadata": {},
     "output_type": "display_data"
    }
   ],
   "source": [
    "_temp = plt.hist(ack[sf], bins=100)"
   ]
  },
  {
   "cell_type": "code",
   "execution_count": 6,
   "id": "1797561e-9c4a-4447-bb54-fd0f8577fa9d",
   "metadata": {},
   "outputs": [
    {
     "data": {
      "text/plain": [
       "-77.14581791523307"
      ]
     },
     "execution_count": 6,
     "metadata": {},
     "output_type": "execute_result"
    }
   ],
   "source": [
    "ack[sf].min()"
   ]
  },
  {
   "cell_type": "code",
   "execution_count": 7,
   "id": "68f1944d-7acd-427f-8f24-bd9800d82a90",
   "metadata": {},
   "outputs": [
    {
     "data": {
      "text/plain": [
       "134"
      ]
     },
     "execution_count": 7,
     "metadata": {},
     "output_type": "execute_result"
    }
   ],
   "source": [
    "np.where(np.abs(ack[sf]) > 20.)[0].size"
   ]
  },
  {
   "cell_type": "code",
   "execution_count": 8,
   "id": "0bf18fbc-c811-4210-aeb0-287a69115158",
   "metadata": {},
   "outputs": [
    {
     "data": {
      "text/plain": [
       "array([  2584,   2634,  18429,  18867,  18869,  35028,  35128,  35129,\n",
       "        35463,  35464,  35469,  38928,  38929,  50036,  69083,  70056,\n",
       "        73938,  79612,  83867,  87993,  87994,  99086,  99178,  99180,\n",
       "        99181,  99182,  99183,  99185, 115513, 115523, 119760, 119783,\n",
       "       119784, 119786, 129873, 138536, 140181, 147256, 147370, 147376,\n",
       "       147377, 165771, 170567, 180550, 180552, 181470, 181520, 193860])"
      ]
     },
     "execution_count": 8,
     "metadata": {},
     "output_type": "execute_result"
    }
   ],
   "source": [
    "np.where(np.abs(ack[sf]) > 30.)[0]"
   ]
  },
  {
   "cell_type": "code",
   "execution_count": 9,
   "id": "1a03b7b0-ad23-4518-b1c6-0098be4a166a",
   "metadata": {},
   "outputs": [
    {
     "data": {
      "text/plain": [
       "3"
      ]
     },
     "execution_count": 9,
     "metadata": {},
     "output_type": "execute_result"
    }
   ],
   "source": [
    "data[\"night\"].values[sf[0][2584]]"
   ]
  },
  {
   "cell_type": "code",
   "execution_count": 10,
   "id": "bd4b3c6b-f2b1-4afd-9238-d133b2ce35d8",
   "metadata": {},
   "outputs": [],
   "source": [
    "in_night = np.where(data[\"night\"] == 3)[0]"
   ]
  },
  {
   "cell_type": "code",
   "execution_count": 11,
   "id": "2800b767-78bb-44aa-b3b3-45f4370a10a9",
   "metadata": {},
   "outputs": [
    {
     "data": {
      "text/plain": [
       "66.7109291057556"
      ]
     },
     "execution_count": 11,
     "metadata": {},
     "output_type": "execute_result"
    }
   ],
   "source": [
    "np.abs(np.diff(data[\"rotTelPos\"].values[in_night])).max()"
   ]
  },
  {
   "cell_type": "code",
   "execution_count": 12,
   "id": "a1c032cd-92d8-4ccf-841a-c17dd849ae6b",
   "metadata": {},
   "outputs": [
    {
     "data": {
      "text/plain": [
       "(array([305, 356]),)"
      ]
     },
     "execution_count": 12,
     "metadata": {},
     "output_type": "execute_result"
    }
   ],
   "source": [
    "np.where(np.abs(np.diff(data[\"rotTelPos\"].values[in_night])) > 30)"
   ]
  },
  {
   "cell_type": "code",
   "execution_count": 13,
   "id": "60f6bc67-902a-4ded-b98b-a58904b575f1",
   "metadata": {},
   "outputs": [
    {
     "data": {
      "text/plain": [
       "rotTelPos                   50.527567\n",
       "filter                              g\n",
       "scheduler_note         pair_33, gr, a\n",
       "night                               3\n",
       "fieldRA                    188.023306\n",
       "fieldDec                   -46.822055\n",
       "rotSkyPos                  -140.66892\n",
       "observationStartMJD      60799.102307\n",
       "rotSkyPos_desired          -140.66892\n",
       "rotTelPos_backup            31.578885\n",
       "Name: 2651, dtype: object"
      ]
     },
     "execution_count": 13,
     "metadata": {},
     "output_type": "execute_result"
    }
   ],
   "source": [
    "data.iloc[in_night[304]]"
   ]
  },
  {
   "cell_type": "code",
   "execution_count": 14,
   "id": "53191469-fa84-40b3-bbe5-1ad119085008",
   "metadata": {},
   "outputs": [
    {
     "data": {
      "text/plain": [
       "rotTelPos                   52.730869\n",
       "filter                              g\n",
       "scheduler_note         pair_33, gr, a\n",
       "night                               3\n",
       "fieldRA                    184.327112\n",
       "fieldDec                   -45.650975\n",
       "rotSkyPos                  -130.54784\n",
       "observationStartMJD       60799.10277\n",
       "rotSkyPos_desired          -130.54784\n",
       "rotTelPos_backup            31.578885\n",
       "Name: 2652, dtype: object"
      ]
     },
     "execution_count": 14,
     "metadata": {},
     "output_type": "execute_result"
    }
   ],
   "source": [
    "data.iloc[in_night[305]]"
   ]
  },
  {
   "cell_type": "code",
   "execution_count": 15,
   "id": "7243ac31-a32f-4cc3-8df7-6039f67f4fcc",
   "metadata": {},
   "outputs": [
    {
     "data": {
      "text/plain": [
       "rotTelPos                   19.180149\n",
       "filter                              g\n",
       "scheduler_note         pair_33, gr, a\n",
       "night                               3\n",
       "fieldRA                      169.9382\n",
       "fieldDec                   -18.058885\n",
       "rotSkyPos                   19.652891\n",
       "observationStartMJD       60799.10401\n",
       "rotSkyPos_desired           19.652891\n",
       "rotTelPos_backup            31.578885\n",
       "Name: 2653, dtype: object"
      ]
     },
     "execution_count": 15,
     "metadata": {},
     "output_type": "execute_result"
    }
   ],
   "source": [
    "data.iloc[in_night[306]]"
   ]
  },
  {
   "cell_type": "code",
   "execution_count": 16,
   "id": "1f3768b0-9003-4256-95aa-a20a2c53bd39",
   "metadata": {},
   "outputs": [
    {
     "data": {
      "text/plain": [
       "rotTelPos                   16.573462\n",
       "filter                              g\n",
       "scheduler_note         pair_33, gr, a\n",
       "night                               3\n",
       "fieldRA                    172.320833\n",
       "fieldDec                   -16.432654\n",
       "rotSkyPos                   28.611038\n",
       "observationStartMJD      60799.104461\n",
       "rotSkyPos_desired           28.611038\n",
       "rotTelPos_backup            31.578885\n",
       "Name: 2654, dtype: object"
      ]
     },
     "execution_count": 16,
     "metadata": {},
     "output_type": "execute_result"
    }
   ],
   "source": [
    "data.iloc[in_night[307]]"
   ]
  },
  {
   "cell_type": "code",
   "execution_count": 26,
   "id": "1d63f156-62b2-4b61-afb7-3b954ce01f7e",
   "metadata": {},
   "outputs": [
    {
     "data": {
      "text/plain": [
       "<matplotlib.colorbar.Colorbar at 0x168a3af10>"
      ]
     },
     "execution_count": 26,
     "metadata": {},
     "output_type": "execute_result"
    },
    {
     "data": {
      "image/png": "[encoded data removed]",
      "text/plain": [
       "<Figure size 640x480 with 2 Axes>"
      ]
     },
     "metadata": {},
     "output_type": "display_data"
    }
   ],
   "source": [
    "indx = in_night[np.arange(303,308,1)]\n",
    "plt.scatter(data[\"fieldRA\"].values[indx], data[\"fieldDec\"].values[indx], c=data[\"rotTelPos\"].values[indx])\n",
    "plt.colorbar()"
   ]
  },
  {
   "cell_type": "code",
   "execution_count": 18,
   "id": "78ede570-913c-44f4-8107-9a0570090892",
   "metadata": {},
   "outputs": [
    {
     "data": {
      "text/plain": [
       "array([ 44.31544247,  40.03601675, 107.1180772 ,  38.95493166])"
      ]
     },
     "execution_count": 18,
     "metadata": {},
     "output_type": "execute_result"
    }
   ],
   "source": [
    "np.diff(data[\"observationStartMJD\"].values[indx])*24*3600"
   ]
  },
  {
   "cell_type": "code",
   "execution_count": 19,
   "id": "4a683dc1-87ef-40f6-9e21-568c6da8ba6d",
   "metadata": {},
   "outputs": [
    {
     "data": {
      "text/plain": [
       "array([-118.93126147, -140.66891998, -130.5478396 ,   19.65289088,\n",
       "         28.61103776])"
      ]
     },
     "execution_count": 19,
     "metadata": {},
     "output_type": "execute_result"
    }
   ],
   "source": [
    "data[\"rotSkyPos_desired\"].values[indx]"
   ]
  },
  {
   "cell_type": "code",
   "execution_count": 20,
   "id": "44bc4d4a-0768-4245-b354-1d84da566b4a",
   "metadata": {},
   "outputs": [
    {
     "data": {
      "text/plain": [
       "array([-118.93126147, -140.66891998, -130.5478396 ,   19.65289088,\n",
       "         28.61103776])"
      ]
     },
     "execution_count": 20,
     "metadata": {},
     "output_type": "execute_result"
    }
   ],
   "source": [
    "data[\"rotSkyPos\"].values[indx]"
   ]
  },
  {
   "cell_type": "code",
   "execution_count": 21,
   "id": "ae01eee8-10f2-4111-b268-b490900a1d07",
   "metadata": {},
   "outputs": [
    {
     "data": {
      "text/plain": [
       "array([49.04424753, 50.52756676, 52.73086906, 19.18014929, 16.57346214])"
      ]
     },
     "execution_count": 21,
     "metadata": {},
     "output_type": "execute_result"
    }
   ],
   "source": [
    "data[\"rotTelPos\"].values[indx]"
   ]
  },
  {
   "cell_type": "code",
   "execution_count": 22,
   "id": "0f1e9f18-6087-438b-b6d5-0cec88801adf",
   "metadata": {},
   "outputs": [
    {
     "data": {
      "text/plain": [
       "array([31.57888465, 31.57888465, 31.57888465, 31.57888465, 31.57888465])"
      ]
     },
     "execution_count": 22,
     "metadata": {},
     "output_type": "execute_result"
    }
   ],
   "source": [
    "data[\"rotTelPos_backup\"].values[indx]"
   ]
  },
  {
   "cell_type": "code",
   "execution_count": null,
   "id": "419b6de5-9e20-4142-9996-0a1f0cdcf912",
   "metadata": {},
   "outputs": [],
   "source": []
  }
 ],
 "metadata": {
  "kernelspec": {
   "display_name": "Python 3 (ipykernel)",
   "language": "python",
   "name": "python3"
  },
  "language_info": {
   "codemirror_mode": {
    "name": "ipython",
    "version": 3
   },
   "file_extension": ".py",
   "mimetype": "text/x-python",
   "name": "python",
   "nbconvert_exporter": "python",
   "pygments_lexer": "ipython3",
   "version": "3.11.8"
  }
 },
 "nbformat": 4,
 "nbformat_minor": 5
}
