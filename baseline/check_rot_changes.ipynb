{
 "cells": [
  {
   "cell_type": "code",
   "execution_count": 1,
   "id": "2d41a356-abc5-4be4-9066-eb542097c133",
   "metadata": {},
   "outputs": [],
   "source": [
    "import numpy as np\n",
    "import sqlite3 \n",
    "import matplotlib.pylab as plt\n",
    "%matplotlib inline\n",
    "import pandas as pd"
   ]
  },
  {
   "cell_type": "code",
   "execution_count": 2,
   "id": "820bc45c-57b0-464b-be9d-a76d212056b4",
   "metadata": {},
   "outputs": [],
   "source": [
    "con = sqlite3.connect(\"baseline_v4.1_10yrs.db\")\n",
    "data = pd.read_sql(\"select rotTelPos,filter,scheduler_note from observations;\", con)\n",
    "con.close()"
   ]
  },
  {
   "cell_type": "code",
   "execution_count": 3,
   "id": "adca9790-a4e8-449d-a9c0-365a7e866223",
   "metadata": {},
   "outputs": [],
   "source": [
    "ack = data['rotTelPos'].values[1:] - data['rotTelPos'].values[0:-1]"
   ]
  },
  {
   "cell_type": "code",
   "execution_count": 4,
   "id": "fe526520-90af-43bf-9bf4-d9965eaaeb54",
   "metadata": {},
   "outputs": [],
   "source": [
    "sf = np.where( (data[\"filter\"].values[1:] == data[\"filter\"].values[0:-1]) &\n",
    "              ((data[\"scheduler_note\"].values[1:] == data[\"scheduler_note\"].values[0:-1])))"
   ]
  },
  {
   "cell_type": "code",
   "execution_count": 5,
   "id": "4fa434ba-a105-48d8-b3b1-7c6a4ea46849",
   "metadata": {},
   "outputs": [
    {
     "data": {
      "image/png": "[encoded data removed]",
      "text/plain": [
       "<Figure size 640x480 with 1 Axes>"
      ]
     },
     "metadata": {},
     "output_type": "display_data"
    }
   ],
   "source": [
    "_temp = plt.hist(ack[sf], bins=100)"
   ]
  },
  {
   "cell_type": "code",
   "execution_count": 6,
   "id": "1797561e-9c4a-4447-bb54-fd0f8577fa9d",
   "metadata": {},
   "outputs": [
    {
     "data": {
      "text/plain": [
       "-90.97385576863714"
      ]
     },
     "execution_count": 6,
     "metadata": {},
     "output_type": "execute_result"
    }
   ],
   "source": [
    "ack[sf].min()"
   ]
  },
  {
   "cell_type": "code",
   "execution_count": 7,
   "id": "68f1944d-7acd-427f-8f24-bd9800d82a90",
   "metadata": {},
   "outputs": [
    {
     "data": {
      "text/plain": [
       "297"
      ]
     },
     "execution_count": 7,
     "metadata": {},
     "output_type": "execute_result"
    }
   ],
   "source": [
    "np.where(np.abs(ack[sf]) > 30.)[0].size"
   ]
  },
  {
   "cell_type": "code",
   "execution_count": null,
   "id": "0bf18fbc-c811-4210-aeb0-287a69115158",
   "metadata": {},
   "outputs": [],
   "source": []
  },
  {
   "cell_type": "code",
   "execution_count": null,
   "id": "1a03b7b0-ad23-4518-b1c6-0098be4a166a",
   "metadata": {},
   "outputs": [],
   "source": []
  }
 ],
 "metadata": {
  "kernelspec": {
   "display_name": "Python 3 (ipykernel)",
   "language": "python",
   "name": "python3"
  },
  "language_info": {
   "codemirror_mode": {
    "name": "ipython",
    "version": 3
   },
   "file_extension": ".py",
   "mimetype": "text/x-python",
   "name": "python",
   "nbconvert_exporter": "python",
   "pygments_lexer": "ipython3",
   "version": "3.11.8"
  }
 },
 "nbformat": 4,
 "nbformat_minor": 5
}
